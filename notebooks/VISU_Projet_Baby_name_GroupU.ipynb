{
 "cells": [
  {
   "cell_type": "markdown",
   "metadata": {},
   "source": [
    "<center><img src=\"data:image/png;base64,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\" /></center>"
   ]
  },
  {
   "cell_type": "markdown",
   "metadata": {},
   "source": [
    "<h1><center><strong><font color=\"green\">IGR204 Visualisation<br/>Projet Baby name</font></strong></center></h1>\n",
    "\n",
    "<h3><center><font color=\"blue\"><strong>Groupe U</strong></font></center></h3>\n",
    "\n",
    "<center>\n",
    "<h3> Project student</h3>\n",
    "<a>Nicolas Allègre</a> <email>nicolas.allegre@telecom-paris.fr</email><br>\n",
    "<a>Romain Donné</a> <email>romain.donne@telecom-paris.fr</email><br>\n",
    "<a>Aude De Fornel</a> <email>aude.defornel@telecom-paris.fr</email><br>\n",
    "<a>François-Xavier Morel</a> <email>francois-xavier.morel@telecom-paris.fr</email><br>\n",
    "<a>Camille Ishac</a> <email>camille.ishac@telecom-paris.fr</email><br>\n",
    "\n",
    "<br/>\n",
    "Année 2024-2025\n",
    "</center>\n",
    "\n",
    "------------------------"
   ]
  },
  {
   "cell_type": "markdown",
   "metadata": {},
   "source": [
    "### Table of Contents\n",
    "\n",
    "* [Chapter 0 Préparation](#0---préparation)\n",
    "* [Chapter 4 - AMR](#4---amr)\n",
    "\n",
    "<!-- <a class=\"anchor\" id=\"0---code-python-initial\"></a> -->"
   ]
  },
  {
   "cell_type": "markdown",
   "metadata": {},
   "source": [
    "# <font color=\"green\">**0 - Préparation**</font>"
   ]
  },
  {
   "cell_type": "markdown",
   "metadata": {},
   "source": [
    "## 0.1) Partie code Python initial (import)"
   ]
  },
  {
   "cell_type": "code",
   "execution_count": 38,
   "metadata": {},
   "outputs": [
    {
     "name": "stdout",
     "output_type": "stream",
     "text": [
      "screensize=(1280, 720)\n"
     ]
    }
   ],
   "source": [
    "# python -m pip install matplotlib numpy tabulate altair geopandas pandas\n",
    "\n",
    "###############################################################################\n",
    "# IMPORTS :\n",
    "# /* Modules standards */\n",
    "import importlib\n",
    "import os\n",
    "import sys\n",
    "import time\n",
    "from pprint import pprint\n",
    "from zipfile import ZipFile\n",
    "\n",
    "# /* Modules externes */\n",
    "import altair as alt\n",
    "import ipywidgets as widgets\n",
    "import geopandas as gpd\n",
    "import matplotlib.pyplot as plt\n",
    "import numpy as np\n",
    "import numpy.typing as npt\n",
    "import pandas as pd\n",
    "import tkinter as tk\n",
    "from tabulate import tabulate\n",
    "\n",
    "# /* Modules internes */\n",
    "\n",
    "###############################################################################\n",
    "# CONSTANTES :\n",
    "DATA_FOLDER = \"../data\"\n",
    "DATA_ZIP = \"Names hints.zip\"\n",
    "DATA_FILENAME = \"dpt2020.csv\"\n",
    "GEO_FILENAME = \"departements-version-simplifiee.geojson\"\n",
    "\n",
    "WIDTH = 600\n",
    "HEIGHT = 600\n",
    "\n",
    "root = tk.Tk()\n",
    "screensize = root.winfo_screenwidth(), root.winfo_screenheight()\n",
    "print(f\"{screensize=}\")\n",
    "WIDTH = screensize[1] - 100\n",
    "\n",
    "_ = alt.data_transformers.enable('json') # Let Altair/Vega-Lite work with large data sets\n"
   ]
  },
  {
   "cell_type": "code",
   "execution_count": 36,
   "metadata": {},
   "outputs": [
    {
     "name": "stdout",
     "output_type": "stream",
     "text": [
      "sexe         int64\n",
      "preusuel    object\n",
      "annais       int64\n",
      "dpt          int64\n",
      "nombre       int64\n",
      "dtype: object\n"
     ]
    }
   ],
   "source": [
    "# Chargement du ZIP\n",
    "zip_filenames = {}\n",
    "filepath = os.path.join(DATA_FOLDER, DATA_ZIP)\n",
    "zip_file = ZipFile(filepath)\n",
    "for filename in [x.filename for x in zip_file.infolist()]:\n",
    "    if DATA_FILENAME in filename:\n",
    "        zip_filenames[\"data_path\"] = filename\n",
    "    elif GEO_FILENAME in filename:\n",
    "        zip_filenames[\"geo_path\"] = filename\n",
    "\n",
    "# Chargement des données :\n",
    "names = pd.read_csv(zip_file.open(zip_filenames[\"data_path\"]), sep=\";\")\n",
    "\n",
    "# Chargement de la cartographie :\n",
    "depts = gpd.read_file(zip_file.open(zip_filenames[\"geo_path\"]))\n",
    "\n",
    "# Suppression des entrées sans prénom :\n",
    "names.drop(names[names.preusuel == '_PRENOMS_RARES'].index, inplace=True)\n",
    "\n",
    "# Suppression des entrées sans date :\n",
    "names.drop(names[names.dpt == 'XX'].index, inplace=True)\n",
    "\n",
    "# Conversion des types :\n",
    "names.dpt = names.dpt.map(int)\n",
    "names.annais = names.annais.map(int)\n",
    "print(names.dtypes)\n"
   ]
  },
  {
   "cell_type": "markdown",
   "metadata": {},
   "source": [
    "# <font color=\"green\">**1 - Visualisation 1 : évolution des prénoms d’enfant, au cours du temps**</font>"
   ]
  },
  {
   "cell_type": "markdown",
   "metadata": {},
   "source": [
    "La première visualisation concerne l'évolution temporelle des nommages d'enfants dans la France de 1900 à 2020.\n",
    "\n",
    "Notamment, elle devrait permettre à répondre :\n",
    "- Combien les noms d'enfant évoluent au cours du temps ?\n",
    "- Y-a-t-il des noms qui sont perpertuellement populaire et non populaire ?\n",
    "- Des tendances temporelles sont-elles présentes dans les noms d'enfant ?\n",
    "\n",
    "\n",
    "Notre but est d'approcher notre proposition de visualisation avancé P1.12."
   ]
  },
  {
   "cell_type": "markdown",
   "metadata": {},
   "source": [
    "### 1.1) Étape 1 : élaboration des graphiques individuels nécessaires"
   ]
  },
  {
   "cell_type": "markdown",
   "metadata": {},
   "source": [
    "#### **P1.2_GLOBAUX distribution de la popularité au travers les âges**\n",
    "\n",
    "Graphique représentant une distribution sur la quantité de prénom issu d’une comptabilisation du nombre d’année qu’un prénom a été choisi au cours d’une année.\n",
    "\n",
    "Il servira pour notre réflexion interne"
   ]
  },
  {
   "cell_type": "code",
   "execution_count": 12,
   "metadata": {},
   "outputs": [
    {
     "name": "stdout",
     "output_type": "stream",
     "text": [
      "Nombre de prénom unique par sexe : [7289, 8849] sur 15270 en globals.\n",
      "Soit 868 prénom non genré\n"
     ]
    },
    {
     "data": {
      "text/plain": [
       "868"
      ]
     },
     "execution_count": 12,
     "metadata": {},
     "output_type": "execute_result"
    }
   ],
   "source": [
    "# Code pour P1.2 et tout autres graphiques d'aide à la réflexion\n"
   ]
  },
  {
   "cell_type": "markdown",
   "metadata": {},
   "source": [
    "#### **P1.1_GLOBAUX évolution moyenne au cours du temps**\n",
    "\n",
    "Graphique représentant max,moyenne,médiane (voir sigma) avec le temps.\n",
    "\n",
    "Ce graphique sera utilisé en début de notre visualisation avec une broche, permettant de réduire la fenêtre de temps.\n"
   ]
  },
  {
   "cell_type": "code",
   "execution_count": null,
   "metadata": {},
   "outputs": [],
   "source": [
    "# Code pour P1.1"
   ]
  },
  {
   "cell_type": "markdown",
   "metadata": {},
   "source": [
    "#### **P1.7_évolution au cours du temps de K prénoms**\n",
    "\n",
    "Graphique similaire au précédent mais pour K prénom.\n",
    "\n",
    "Ce graphique devra comprendre : une tooltip avec année,nb,nom,(?moy/med/sig?), la légende des noms\n"
   ]
  },
  {
   "cell_type": "code",
   "execution_count": null,
   "metadata": {},
   "outputs": [],
   "source": [
    "# Préparation des données\n",
    "names['annais'] = pd.to_numeric(names['annais'], errors='coerce')\n",
    "names = names.dropna(subset=['annais'])\n",
    "names['annais'] = names['annais'].astype(int)\n",
    "\n",
    "top10 = (\n",
    "    names.groupby('preusuel')['nombre']\n",
    "    .sum()\n",
    "    .sort_values(ascending=False)\n",
    "    .head(10)\n",
    "    .index\n",
    ")\n",
    "\n",
    "filtered = names[names['preusuel'].isin(top10)]\n",
    "agg = (\n",
    "    filtered.groupby(['annais', 'preusuel'])['nombre']\n",
    "    .sum()\n",
    "    .reset_index()\n",
    ")\n",
    "\n",
    "# Lignes principales\n",
    "lines = alt.Chart(agg).mark_line().encode(\n",
    "    x=alt.X('annais:O',\n",
    "        title='Année',\n",
    "        axis=alt.Axis(values=[i for i in range(1900, 2021, 10)], labelAngle=0)\n",
    "    ),\n",
    "    y=alt.Y('nombre:Q', title='Nombre de naissances'),\n",
    "    color=alt.Color('preusuel:N', title='Prénom'),\n",
    "    tooltip=['preusuel', 'annais', 'nombre']\n",
    ").properties(\n",
    "    width=700,\n",
    "    height=400\n",
    ")\n",
    "\n",
    "# Zones de conflit (fixe rouge transparent)\n",
    "conflicts_df = pd.DataFrame({\n",
    "    'start': [1914, 1939],\n",
    "    'end': [1918, 1945]\n",
    "})\n",
    "\n",
    "zones = alt.Chart(conflicts_df).mark_rect(\n",
    "    opacity=0.2,\n",
    "    color='red'\n",
    ").encode(\n",
    "    x='start:O',\n",
    "    x2='end:O'\n",
    ").properties(\n",
    "    width=700,\n",
    "    height=400\n",
    ")\n",
    "\n",
    "# Légende \"Période de conflit\" ajoutée manuellement\n",
    "legend_dummy = alt.Chart(pd.DataFrame({\n",
    "    'label': ['Période de conflit']\n",
    "})).mark_rect(opacity=0.2).encode(\n",
    "    color=alt.Color('label:N', scale=alt.Scale(domain=['Période de conflit'], range=['red']), legend=alt.Legend(title=''))\n",
    ")\n",
    "\n",
    "# Combinaison finale sans .height sur le chart global\n",
    "chart = alt.layer(zones, lines).resolve_scale(color='independent')\n",
    "final_chart = chart & legend_dummy\n",
    "\n",
    "final_chart.properties(\n",
    "    title='Évolution des 10 prénoms les plus populaires (avec périodes de conflit)'\n",
    ")\n"
   ]
  },
  {
   "cell_type": "markdown",
   "metadata": {},
   "source": [
    "Dans ce qu'on observe, il y a deux source de variabilité : \n",
    " - une liée à l'attribution d'un prénom\n",
    " - une autre liée au nombre de naissance ayant eu lieu pour l'année en question\n",
    "\n",
    " Ainsi, pour saisir les tendances sur les prénoms, il est nécessaire de se débarasser de la variabilité liée au nombre de naissances. "
   ]
  },
  {
   "cell_type": "code",
   "execution_count": null,
   "metadata": {},
   "outputs": [],
   "source": [
    "nb_of_birth = {}\n",
    "time_span = range(names.annais.min(),  names.annais.max()+1)\n",
    "for year in time_span:\n",
    "    nb_of_birth[year] = names[ names.annais == year][\"nombre\"].sum()\n",
    "    \n",
    "mean_nb_birth = np.mean(list(nb_of_birth.values()))\n",
    "names[\"rectified_nb\"] = mean_nb_birth * names[\"nombre\"] / names[\"annais\"].map(nb_of_birth)\n"
   ]
  },
  {
   "cell_type": "markdown",
   "metadata": {},
   "source": [
    "On ajoute également la pédiode des 30 glorieuses, en bleu et on compare l'évolution de 1900 à nos jours des prénoms : \n",
    "- les plus populaires en France sur l'ensemble de la pédiode\n",
    "- les plus populaires entre 2010-2020"
   ]
  },
  {
   "cell_type": "code",
   "execution_count": null,
   "metadata": {},
   "outputs": [],
   "source": [
    "# --------- 1. Prénoms les plus populaires sur toute la période ---------\n",
    "top10_all = (\n",
    "    names.groupby('preusuel')['rectified_nb']\n",
    "    .sum()\n",
    "    .sort_values(ascending=False)\n",
    "    .head(10)\n",
    "    .index\n",
    ")\n",
    "\n",
    "filtered_all = names[names['preusuel'].isin(top10_all)]\n",
    "agg_all = (\n",
    "    filtered_all.groupby(['annais', 'preusuel'])['rectified_nb']\n",
    "    .sum()\n",
    "    .reset_index()\n",
    ")\n",
    "\n",
    "# --------- 2. Prénoms les plus populaires depuis 2010 ---------\n",
    "recent_names = names[names['annais'] >= 2010]\n",
    "top10_recent = (\n",
    "    recent_names.groupby('preusuel')['rectified_nb']\n",
    "    .sum()\n",
    "    .sort_values(ascending=False)\n",
    "    .head(10)\n",
    "    .index\n",
    ")\n",
    "\n",
    "filtered_recent = names[names['preusuel'].isin(top10_recent)]\n",
    "agg_recent = (\n",
    "    filtered_recent.groupby(['annais', 'preusuel'])['rectified_nb']\n",
    "    .sum()\n",
    "    .reset_index()\n",
    ")\n",
    "\n",
    "# --------- Contexte historique ---------\n",
    "conflicts_df = pd.DataFrame({\n",
    "    'start': [1914, 1939],\n",
    "    'end': [1918, 1945]\n",
    "})\n",
    "\n",
    "glorieuses_df = pd.DataFrame({\n",
    "    'start': [1945],\n",
    "    'end': [1975]\n",
    "})\n",
    "\n",
    "war = alt.Chart(conflicts_df).mark_rect(\n",
    "    opacity=0.2,\n",
    "    color='red'\n",
    ").encode(\n",
    "    x='start:O',\n",
    "    x2='end:O'\n",
    ").properties(\n",
    "    width=350,\n",
    "    height=400\n",
    ")\n",
    "\n",
    "glor = alt.Chart(glorieuses_df).mark_rect(\n",
    "    opacity=0.2,\n",
    "    color='blue'\n",
    ").encode(\n",
    "    x='start:O',\n",
    "    x2='end:O'\n",
    ").properties(\n",
    "    width=350,\n",
    "    height=400\n",
    ")\n",
    "\n",
    "# --------- Chart 1 : Top 10 global ---------\n",
    "lines_all = alt.Chart(agg_all).mark_line().encode(\n",
    "    x=alt.X('annais:O', title='Année', axis=alt.Axis(values=[i for i in range(1900, 2021, 10)], labelAngle=0)),\n",
    "    y=alt.Y('rectified_nb:Q', title=\"Nombre ajusté d'attributions\"),\n",
    "    color=alt.Color('preusuel:N', title='Prénom'),\n",
    "    tooltip=['preusuel', 'annais', 'rectified_nb']\n",
    ").properties(width=350, height=400)\n",
    "\n",
    "chart_all = alt.layer(war, glor, lines_all).resolve_scale(color='independent').properties(\n",
    "    title='Top 10 prénoms (toute période)'\n",
    ")\n",
    "\n",
    "# --------- Chart 2 : Top 10 depuis 2010 ---------\n",
    "lines_recent = alt.Chart(agg_recent).mark_line().encode(\n",
    "    x=alt.X('annais:O', title='Année', axis=alt.Axis(values=[i for i in range(1900, 2021, 10)], labelAngle=0)),\n",
    "    y=alt.Y('rectified_nb:Q', title=\"Nombre ajusté d'attributions\"),\n",
    "    color=alt.Color('preusuel:N', title='Prénom'),\n",
    "    tooltip=['preusuel', 'annais', 'rectified_nb']\n",
    ").properties(width=350, height=400)\n",
    "\n",
    "chart_recent = alt.layer(war, glor, lines_recent).resolve_scale(color='independent').properties(\n",
    "    title='Top 10 prénoms des années 2010-2020)'\n",
    ")\n",
    "\n",
    "# --------- Affichage côte à côte ---------\n",
    "final_chart = alt.hconcat(chart_all, chart_recent).resolve_scale(color='independent')\n",
    "final_chart"
   ]
  },
  {
   "cell_type": "markdown",
   "metadata": {},
   "source": [
    "On constate un problème d'échelle, car les prénoms les plus populaires dans les années récentes sont 10 fois moins attribués que les prénoms top-10 sur l'ensemble de la période. On va faire une super-rectification pour prendre en compte l'augmentation du champ des possibles en termes de prénoms."
   ]
  },
  {
   "cell_type": "code",
   "execution_count": null,
   "metadata": {},
   "outputs": [],
   "source": [
    "# Nombre de prénoms différents par année\n",
    "nb_unique_names_per_year = names.groupby('annais')['preusuel'].nunique()\n",
    "\n",
    "# Moyenne globale sur toute la période\n",
    "mean_nb_names = nb_unique_names_per_year.mean()\n",
    "\n",
    "# Création de la colonne\n",
    "names['super_rectified_number'] = (\n",
    "    names['rectified_nb'] / names['annais'].map(nb_unique_names_per_year)\n",
    ") * mean_nb_names"
   ]
  },
  {
   "cell_type": "code",
   "execution_count": null,
   "metadata": {},
   "outputs": [],
   "source": [
    "# --------- 1. Prénoms les plus populaires sur toute la période ---------\n",
    "top10_all = (\n",
    "    names.groupby('preusuel')['super_rectified_number']\n",
    "    .sum()\n",
    "    .sort_values(ascending=False)\n",
    "    .head(10)\n",
    "    .index\n",
    ")\n",
    "\n",
    "filtered_all = names[names['preusuel'].isin(top10_all)]\n",
    "agg_all = (\n",
    "    filtered_all.groupby(['annais', 'preusuel'])['super_rectified_number']\n",
    "    .sum()\n",
    "    .reset_index()\n",
    ")\n",
    "\n",
    "# --------- 2. Prénoms les plus populaires depuis 2010 ---------\n",
    "recent_names = names[names['annais'] >= 2010]\n",
    "top10_recent = (\n",
    "    recent_names.groupby('preusuel')['super_rectified_number']\n",
    "    .sum()\n",
    "    .sort_values(ascending=False)\n",
    "    .head(10)\n",
    "    .index\n",
    ")\n",
    "\n",
    "filtered_recent = names[names['preusuel'].isin(top10_recent)]\n",
    "agg_recent = (\n",
    "    filtered_recent.groupby(['annais', 'preusuel'])['super_rectified_number']\n",
    "    .sum()\n",
    "    .reset_index()\n",
    ")\n",
    "\n",
    "# --------- Contexte historique ---------\n",
    "conflicts_df = pd.DataFrame({\n",
    "    'start': [1914, 1939],\n",
    "    'end': [1918, 1945]\n",
    "})\n",
    "\n",
    "glorieuses_df = pd.DataFrame({\n",
    "    'start': [1945],\n",
    "    'end': [1975]\n",
    "})\n",
    "\n",
    "war = alt.Chart(conflicts_df).mark_rect(\n",
    "    opacity=0.2,\n",
    "    color='red'\n",
    ").encode(\n",
    "    x='start:O',\n",
    "    x2='end:O'\n",
    ").properties(\n",
    "    width=350,\n",
    "    height=400\n",
    ")\n",
    "\n",
    "glor = alt.Chart(glorieuses_df).mark_rect(\n",
    "    opacity=0.2,\n",
    "    color='blue'\n",
    ").encode(\n",
    "    x='start:O',\n",
    "    x2='end:O'\n",
    ").properties(\n",
    "    width=350,\n",
    "    height=400\n",
    ")\n",
    "\n",
    "# --------- Chart 1 : Top 10 global ---------\n",
    "lines_all = alt.Chart(agg_all).mark_line().encode(\n",
    "    x=alt.X('annais:O', title='Année', axis=alt.Axis(values=[i for i in range(1900, 2021, 10)], labelAngle=0)),\n",
    "    y=alt.Y('super_rectified_number:Q', title=\"Nombre ajusté d'attributions\"),\n",
    "    color=alt.Color('preusuel:N', title='Prénom'),\n",
    "    tooltip=['preusuel', 'annais', 'super_rectified_number']\n",
    ").properties(width=350, height=400)\n",
    "\n",
    "chart_all = alt.layer(war, glor, lines_all).resolve_scale(color='independent').properties(\n",
    "    title='Top 10 prénoms (toute période)'\n",
    ")\n",
    "\n",
    "# --------- Chart 2 : Top 10 depuis 2010 ---------\n",
    "lines_recent = alt.Chart(agg_recent).mark_line().encode(\n",
    "    x=alt.X('annais:O', title='Année', axis=alt.Axis(values=[i for i in range(1900, 2021, 10)], labelAngle=0)),\n",
    "    y=alt.Y('super_rectified_number:Q', title=\"Nombre ajusté d'attributions\"),\n",
    "    color=alt.Color('preusuel:N', title='Prénom'),\n",
    "    tooltip=['preusuel', 'annais', 'super_rectified_number']\n",
    ").properties(width=350, height=400)\n",
    "\n",
    "chart_recent = alt.layer(war, glor, lines_recent).resolve_scale(color='independent').properties(\n",
    "    title='Top 10 prénoms des années 2010-2020)'\n",
    ")\n",
    "\n",
    "# --------- Affichage côte à côte ---------\n",
    "final_chart = alt.hconcat(chart_all, chart_recent).resolve_scale(color='independent')\n",
    "final_chart"
   ]
  },
  {
   "cell_type": "markdown",
   "metadata": {},
   "source": [
    "Paradoxalement, le phénomène est encore plus marqué : sur l'ensemble de la période. Il faut faire l'hypothèse que la polarisation entre les prénoms très rares et les prénoms très populaires est beaucoup plus marquée que sur la fin de la période. "
   ]
  },
  {
   "cell_type": "code",
   "execution_count": null,
   "metadata": {},
   "outputs": [],
   "source": [
    "import pandas as pd\n",
    "import seaborn as sns\n",
    "import matplotlib.pyplot as plt\n",
    "import numpy as np\n",
    "\n",
    "# Préparation : s'assurer que les données sont propres\n",
    "names['annais'] = pd.to_numeric(names['annais'], errors='coerce')\n",
    "names = names.dropna(subset=['annais', 'nombre'])\n",
    "names['annais'] = names['annais'].astype(int)\n",
    "names['nombre'] = names['nombre'].astype(int)\n",
    "\n",
    "# Découpage en 3 périodes\n",
    "df_avant = names[names['annais'] < 1910].groupby('preusuel', as_index=False)['rectified_nb'].sum()\n",
    "df_avant['période'] = 'Avant 1910'\n",
    "\n",
    "df_apres = names[names['annais'] >= 2010].groupby('preusuel', as_index=False)['rectified_nb'].sum()\n",
    "df_apres['période'] = 'Après 2010'\n",
    "\n",
    "df_ensemble = names.groupby('preusuel', as_index=False)['rectified_nb'].sum()\n",
    "df_ensemble['période'] = 'Ensemble'\n",
    "\n",
    "# Fusion des trois\n",
    "df_violin = pd.concat([df_avant, df_apres, df_ensemble], ignore_index=True)\n",
    "\n",
    "# Optionnel : transformation log pour échelle plus lisible\n",
    "df_violin['log_nombre'] = np.log1p(df_violin['rectified_nb'])\n",
    "\n",
    "# Plot avec Seaborn\n",
    "plt.figure(figsize=(10, 6))\n",
    "sns.violinplot(data=df_violin, x='période', y='log_nombre', palette='muted', cut=0)\n",
    "plt.title(\"Distribution des occurrences des prénoms par période (échelle log)\")\n",
    "plt.ylabel(\"log(1 + nombre d'occurrences)\")\n",
    "plt.xlabel(\"Période\")\n",
    "plt.grid(True)\n",
    "plt.tight_layout()\n",
    "plt.show()"
   ]
  },
  {
   "cell_type": "markdown",
   "metadata": {},
   "source": [
    "#### **P1.4_Ranking des prénoms populaires et non populaires (K premiers & K derniers)**\n",
    "\n",
    "Graphique représentant un classement des K premiers noms.\n",
    "\n",
    "Nous allons nous focaliser d'abords à représenter la popularité.\n",
    "\n",
    "Ce graphique doit comprendre : le nombre total, la position et le nom\n"
   ]
  },
  {
   "cell_type": "markdown",
   "metadata": {},
   "source": [
    "#### **Graphiques dynamiques**\n",
    "\n",
    "Si altair peut faire un graphique sous forme de vidéo, alors tester sur le P1.7.\n",
    "- => P1.9_Top global des prénoms\n",
    "- ou => P1.10_TOP locaux des prénoms\n"
   ]
  },
  {
   "cell_type": "code",
   "execution_count": null,
   "metadata": {},
   "outputs": [],
   "source": [
    "# Code pour 1.9"
   ]
  },
  {
   "cell_type": "markdown",
   "metadata": {},
   "source": [
    "### 1.2) Étape 2 : fusionner pour construire la visualisation"
   ]
  },
  {
   "cell_type": "markdown",
   "metadata": {},
   "source": [
    "#### **P1.12_proposition de visualisation temporelle des prénoms d’enfant**\n",
    "\n",
    "Dans un premier temps, avec des paramètres construire la visualisation.\n",
    "\n",
    "Rappel disposition :\n",
    "- en premier, le graphique général P1.1 sur toutes la largeur avec la possibilité de réduire le temps.\n",
    "- le graphique des ranking de K prénom + nom donnée (P1.4)\n",
    "- le graphique évolution des prénoms sélectionné (P1.7)\n",
    "\n",
    "Progression :\n",
    "- Dans un premier temps, grâce à des variables Python.\n",
    "- Dans un second temps, si Altair le permet rajouter de la dynamique (clic de sélection, ...)\n"
   ]
  },
  {
   "cell_type": "code",
   "execution_count": null,
   "metadata": {},
   "outputs": [],
   "source": [
    "# Code pour visualisaition 1\n",
    "\n",
    "###############################################################################\n",
    "## PARAMÈTRES DE VISU :\n",
    "POPULAIRE = True  # Populaire ou non populaire\n",
    "K = 5  # Nombre de prénoms à afficher\n",
    "USERNAME = \"\"  # Vide ou donné\n",
    "LIST_USERNAME = []  # liste spécique ou automatique TOP\n",
    "SEXE = \"all\"  # \"ALL\", \"M\", \"F\"\n",
    "\n",
    "\n",
    "###############################################################################\n",
    "# 1.1 - Construire la liste des K users \n",
    "list_k_user_auto = []  # à partir dataset ordonnée croissante\n",
    "\n",
    "# 1.2 - Filtrage pour avoir les noms à afficher\n",
    "list_names = []\n",
    "# Récupérer d'abords les prénoms donnés par l'utilisateur et compléter par les tops.\n",
    "for i in range(K):\n",
    "    if len(LIST_USERNAME) > i:\n",
    "        list_names.append(LIST_USERNAME[i])\n",
    "    elif len(list_k_user_auto) > i:\n",
    "        list_names.append(list_k_user_auto.pop(0))\n",
    "# Rajouter le nom spécial de l'utilisateur\n",
    "if USERNAME != \"\":\n",
    "    list_names.append(USERNAME)\n",
    "\n",
    "###############################################################################\n"
   ]
  },
  {
   "cell_type": "markdown",
   "metadata": {},
   "source": [
    "# <font color=\"green\">**2 - Visualisation 2 : évolution des prénoms d’enfant, géographiquement**</font>"
   ]
  },
  {
   "cell_type": "markdown",
   "metadata": {},
   "source": [
    "Le seconde visualisation concerne l'évolution géographique des nommages d'enfants dans la France métropolitaine de 1900 à 2020.\n",
    "\n",
    "Notamment, elle devrait permettre à répondre :\n",
    "- Y-a-t-il un effect régional ?\n",
    "- Des noms sont plus populaires dans certaines régions ?\n",
    "- Les noms populaires globalement le sont-ils dans toutes les régions française ?\n",
    "\n",
    "Notre but est d'approcher notre proposition de visualisation avancé P2.6."
   ]
  },
  {
   "cell_type": "markdown",
   "metadata": {},
   "source": [
    "### 1.1) Étape 1 : élaboration des graphiques individuels nécessaires"
   ]
  },
  {
   "cell_type": "markdown",
   "metadata": {},
   "source": [
    "#### **P2.1_GLOBAUX répartition moyenne de K prénoms en couleur**\n",
    "\n",
    "Graphique représentant une sorte de heatmap des K prénoms sur une carte de la France.\n",
    "\n",
    "Le graphique doit contenir : une tooltip pour chaque département (dpt,nom,nb)"
   ]
  },
  {
   "cell_type": "code",
   "execution_count": null,
   "metadata": {},
   "outputs": [],
   "source": [
    "# Code P2.1"
   ]
  },
  {
   "cell_type": "markdown",
   "metadata": {},
   "source": [
    "#### **P2.3_répartition d’un prénom en couleur (heatmap)**\n",
    "\n",
    "Graphique représentant la heatmap d'un prénom sur la carte de la France."
   ]
  },
  {
   "cell_type": "code",
   "execution_count": null,
   "metadata": {},
   "outputs": [],
   "source": [
    "# Code P2.3"
   ]
  },
  {
   "cell_type": "markdown",
   "metadata": {},
   "source": [
    "### 1.2) Étape 2 : fusionner pour construire la visualisation"
   ]
  },
  {
   "cell_type": "markdown",
   "metadata": {},
   "source": [
    "#### **P2.6_proposition de visualisation temporelle des prénoms d’enfant**\n",
    "\n",
    "\n",
    "Rappel disposition :\n",
    "- en premier, une échelle de temps modifiable ou la France heatmap avec le temps modifiable.\n",
    "- la heatmap des K top ou du prénom\n",
    "\n"
   ]
  },
  {
   "cell_type": "code",
   "execution_count": null,
   "metadata": {},
   "outputs": [],
   "source": [
    "# Code pour visualisation 2\n",
    "\n",
    "###############################################################################\n",
    "## PARAMÈTRES DE VISU :\n",
    "POPULAIRE = True  # Populaire ou non populaire\n",
    "K = 5  # Nombre de prénoms à afficher\n",
    "USERNAME = \"\"  # Vide ou donné\n",
    "LIST_USERNAME = []  # liste spécique ou automatique TOP\n",
    "LIST_DPT = []  # liste spécique ou automatique département\n",
    "SEXE = \"all\"  # \"ALL\", \"M\", \"F\"\n",
    "\n",
    "\n",
    "###############################################################################\n",
    "# 1.1 - Construire la liste des K users \n",
    "list_k_user_auto = []  # à partir dataset ordonnée croissante\n",
    "\n",
    "# 1.2 - Filtrage pour avoir les noms à afficher\n",
    "list_names = []\n",
    "# Récupérer d'abords les prénoms donnés par l'utilisateur et compléter par les tops.\n",
    "for i in range(K):\n",
    "    if len(LIST_USERNAME) > i:\n",
    "        list_names.append(LIST_USERNAME[i])\n",
    "    elif len(list_k_user_auto) > i:\n",
    "        list_names.append(list_k_user_auto.pop(0))\n",
    "# Rajouter le nom spécial de l'utilisateur\n",
    "if USERNAME != \"\":\n",
    "    list_names.append(USERNAME)\n",
    "\n",
    "###############################################################################\n"
   ]
  },
  {
   "cell_type": "markdown",
   "metadata": {},
   "source": [
    "# <font color=\"green\">**3 - Visualisation 3 :  évolution des prénoms d’enfant, en fonction du sexe**</font>"
   ]
  },
  {
   "cell_type": "markdown",
   "metadata": {},
   "source": [
    "La troisième visualisation concerne l'évolution genrée des nommages d'enfants dans la France de 1900 à 2020.\n",
    "\n",
    "Notamment, elle devrait permettre à répondre à :\n",
    "- Le sexe influe-t-il sur les évolutions des noms ?\n",
    "- La popularité des noms évolue-t-elle similairement pour les deux sexes ?\n"
   ]
  },
  {
   "cell_type": "code",
   "execution_count": 47,
   "metadata": {},
   "outputs": [
    {
     "name": "stdout",
     "output_type": "stream",
     "text": [
      "Nombre de prénom unique par sexe : [7289, 8849] sur 15270 en globals.\n",
      "Soit 868 prénom non genré\n"
     ]
    },
    {
     "data": {
      "text/plain": [
       "['CLÉO',\n",
       " 'FRÉDÉRIQUE',\n",
       " 'TAYLOR',\n",
       " 'MAILEY',\n",
       " 'AMINE',\n",
       " 'JEANNICK',\n",
       " 'CHRISTY',\n",
       " 'JOSEPH',\n",
       " 'MARLEY',\n",
       " 'ANSELME']"
      ]
     },
     "execution_count": 47,
     "metadata": {},
     "output_type": "execute_result"
    }
   ],
   "source": [
    "d_sets = {}\n",
    "l_sexes = set(names.sexe)\n",
    "l_annees = set(names.annais)\n",
    "l_prenoms = [set(names.preusuel)]\n",
    "l_prenoms.extend([set(names[names[\"sexe\"]==i].preusuel) for i in l_sexes])\n",
    "d_sets[\"sexes\"] = l_sexes\n",
    "d_sets[\"annees\"] = l_annees\n",
    "# [0] : all / [1] : homme / [2] : femme\n",
    "d_sets[\"prenoms\"] = l_prenoms\n",
    "\n",
    "nb_uniq = len(set(names.preusuel))\n",
    "nb_uniq_s = [len(l_prenoms[i]) for i in range(len(l_prenoms))]\n",
    "l_prenoms_unisexe = set(names.preusuel) - (l_prenoms[1]-l_prenoms[2]) - (l_prenoms[2]-l_prenoms[1])\n",
    "d_sets[\"prenoms_unisexe\"] = l_prenoms_unisexe\n",
    "\n",
    "print(f\"Nombre de prénom unique par sexe : {nb_uniq_s[1:]} sur {nb_uniq} en globals.\")\n",
    "print(f\"Soit {len(l_prenoms_unisexe)} prénom non genré\")\n",
    "list(l_prenoms_unisexe)[:10]"
   ]
  }
 ],
 "metadata": {
  "kernelspec": {
   "display_name": "env",
   "language": "python",
   "name": "python3"
  },
  "language_info": {
   "codemirror_mode": {
    "name": "ipython",
    "version": 3
   },
   "file_extension": ".py",
   "mimetype": "text/x-python",
   "name": "python",
   "nbconvert_exporter": "python",
   "pygments_lexer": "ipython3",
   "version": "3.12.3"
  }
 },
 "nbformat": 4,
 "nbformat_minor": 2
}
